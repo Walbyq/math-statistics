{
  "nbformat": 4,
  "nbformat_minor": 0,
  "metadata": {
    "colab": {
      "provenance": [],
      "toc_visible": true,
      "authorship_tag": "ABX9TyMSJexll5Elzah6OjtPk6eH",
      "include_colab_link": true
    },
    "kernelspec": {
      "name": "python3",
      "display_name": "Python 3"
    },
    "language_info": {
      "name": "python"
    }
  },
  "cells": [
    {
      "cell_type": "markdown",
      "metadata": {
        "id": "view-in-github",
        "colab_type": "text"
      },
      "source": [
        "<a href=\"https://colab.research.google.com/github/Walbyq/math-statistics/blob/main/statistics.ipynb\" target=\"_parent\"><img src=\"https://colab.research.google.com/assets/colab-badge.svg\" alt=\"Open In Colab\"/></a>"
      ]
    },
    {
      "cell_type": "markdown",
      "source": [
        "## Лабараторная работа №1. Розыгрыш стандартных дискретных случайных величин"
      ],
      "metadata": {
        "id": "LDUqKrWPljno"
      }
    },
    {
      "cell_type": "markdown",
      "source": [
        "Очистка данных"
      ],
      "metadata": {
        "id": "3K0hb_wTFOx7"
      }
    },
    {
      "cell_type": "code",
      "source": [
        "%reset -f\n",
        "import gc\n",
        "gc.collect()"
      ],
      "metadata": {
        "colab": {
          "base_uri": "https://localhost:8080/"
        },
        "id": "82xrfZEHFOsM",
        "outputId": "1308cb16-2a63-4649-9b3d-7b5efc1b19ad"
      },
      "execution_count": null,
      "outputs": [
        {
          "output_type": "execute_result",
          "data": {
            "text/plain": [
              "0"
            ]
          },
          "metadata": {},
          "execution_count": 356
        }
      ]
    },
    {
      "cell_type": "markdown",
      "source": [
        "Расчеты"
      ],
      "metadata": {
        "id": "gg0MPcGTl-te"
      }
    },
    {
      "cell_type": "code",
      "execution_count": null,
      "metadata": {
        "id": "OCaWEFpKUa-m"
      },
      "outputs": [],
      "source": [
        "import numpy as np\n",
        "from scipy.stats import binom\n",
        "\n",
        "# Функция для создания кумулятивного биномиального распределения\n",
        "def create_cumulative_binomial(n, p):\n",
        "    # Вычисляем вероятности для каждого возможного исхода\n",
        "    probabilities = [binom.pmf(k, n, p) for k in range(n + 1)]\n",
        "    # Возвращаем кумулятивную сумму вероятностей\n",
        "    return np.cumsum(probabilities)\n",
        "\n",
        "# Функция для выбора значения на основе кумулятивного распределения\n",
        "def sample_from_distribution(cumulative_prob):\n",
        "    # Генерируем случайное число\n",
        "    r = np.random.random()\n",
        "    # Находим индекс первого элемента, больший или равный случайному числу\n",
        "    return np.searchsorted(cumulative_prob, r)\n",
        "\n",
        "# Параметры распределения\n",
        "n, p = 10, 0.01\n",
        "size = 100\n",
        "\n",
        "# Создаем кумулятивное распределение\n",
        "cumulative_prob = create_cumulative_binomial(n, p)\n",
        "\n",
        "# Генерация значений\n",
        "sample = [sample_from_distribution(cumulative_prob) for _ in range(size)]"
      ]
    },
    {
      "cell_type": "markdown",
      "source": [
        "Гистограмма"
      ],
      "metadata": {
        "id": "wJAFT0PdmCUq"
      }
    },
    {
      "cell_type": "code",
      "source": [
        "import matplotlib.pyplot as plt\n",
        "\n",
        "# Создаем гистограмму\n",
        "plt.figure(figsize=(6, 6))\n",
        "plt.hist(sample, bins=range(0, n+2), align='left',\n",
        "         rwidth=0.1, density=True, edgecolor='black')\n",
        "plt.xlim(-0.5, n+0.5)\n",
        "plt.xticks(np.arange(0, n+1))\n",
        "plt.grid(axis='y', alpha=0.25)\n",
        "plt.title('Гистограмма биномиального распределения')\n",
        "plt.xlabel('Количество успехов')\n",
        "plt.ylabel('Частота')\n",
        "plt.show()"
      ],
      "metadata": {
        "colab": {
          "base_uri": "https://localhost:8080/",
          "height": 564
        },
        "id": "itkWQMc1dzdZ",
        "outputId": "58aec9e4-77d4-4224-a51f-ffa071fbb669"
      },
      "execution_count": null,
      "outputs": [
        {
          "output_type": "display_data",
          "data": {
            "text/plain": [
              "<Figure size 600x600 with 1 Axes>"
            ],
            "image/png": "[encoded data removed]"
          },
          "metadata": {}
        }
      ]
    },
    {
      "cell_type": "markdown",
      "source": [
        "Статистика"
      ],
      "metadata": {
        "id": "lyevvCDkrW7d"
      }
    },
    {
      "cell_type": "code",
      "source": [
        "from collections import Counter\n",
        "\n",
        "# Подсчет частоты каждого значения\n",
        "value_counts = Counter(sample)\n",
        "\n",
        "print(\"Статистика:\")\n",
        "for value in sorted(value_counts.keys()):\n",
        "    count = value_counts[value]\n",
        "    percentage = (count / len(sample)) * 100\n",
        "    print(f\"Значение {value}: {count} раз ({percentage:.2f}%)\")"
      ],
      "metadata": {
        "colab": {
          "base_uri": "https://localhost:8080/"
        },
        "id": "F5ox6_-MrEgb",
        "outputId": "a09bd694-83d7-4392-a1ea-ead1b1634b13"
      },
      "execution_count": null,
      "outputs": [
        {
          "output_type": "stream",
          "name": "stdout",
          "text": [
            "Статистика:\n",
            "Значение 0: 92 раз (92.00%)\n",
            "Значение 1: 8 раз (8.00%)\n"
          ]
        }
      ]
    },
    {
      "cell_type": "markdown",
      "source": [
        "# Лабараторная работа №2. Розыгрыш стандартных непрерывных случайных величин"
      ],
      "metadata": {
        "id": "bdhMWjAfCtk4"
      }
    },
    {
      "cell_type": "markdown",
      "source": [
        "Очистка данных"
      ],
      "metadata": {
        "id": "iDztkq2wFSW0"
      }
    },
    {
      "cell_type": "code",
      "source": [
        "%reset -f\n",
        "import gc\n",
        "gc.collect()"
      ],
      "metadata": {
        "colab": {
          "base_uri": "https://localhost:8080/"
        },
        "id": "o7BQwPwdFSQu",
        "outputId": "23b9c99e-8c28-4697-cd1b-9a56471dcc17"
      },
      "execution_count": null,
      "outputs": [
        {
          "output_type": "execute_result",
          "data": {
            "text/plain": [
              "0"
            ]
          },
          "metadata": {},
          "execution_count": 360
        }
      ]
    },
    {
      "cell_type": "markdown",
      "source": [
        "Расчеты"
      ],
      "metadata": {
        "id": "8yDRXmsoW2s_"
      }
    },
    {
      "cell_type": "code",
      "source": [
        "import numpy as np\n",
        "\n",
        "# Параметры равномерного распределения\n",
        "a, b = 2, 4\n",
        "size = 200\n",
        "\n",
        "# Обратная функция равномерного распределения\n",
        "def inverse_uniform(min, max, x):\n",
        "    return min + (max - min) * x\n",
        "\n",
        "# Генерация выборки с использованием обратной функции\n",
        "sample = inverse_uniform(a, b, np.random.random(size))"
      ],
      "metadata": {
        "id": "5fxsxU0DP1Yu"
      },
      "execution_count": null,
      "outputs": []
    },
    {
      "cell_type": "markdown",
      "source": [
        "Гистограмма"
      ],
      "metadata": {
        "id": "610MAoZIXAU7"
      }
    },
    {
      "cell_type": "code",
      "source": [
        "import matplotlib.pyplot as plt\n",
        "import math\n",
        "\n",
        "# Вычисляем рекомендуемое количество столбцов\n",
        "bins = round(math.log2(size))\n",
        "\n",
        "# Создаем равномерно распределенные границы для bins\n",
        "bin_edges = np.linspace(a, b, bins + 1)\n",
        "\n",
        "# Создаем гистограмму\n",
        "plt.figure(figsize=(6, 6))\n",
        "plt.hist(sample, bins=bin_edges, density=True, edgecolor='black')\n",
        "plt.grid(axis='y', alpha=0.25)\n",
        "plt.xticks(bin_edges)\n",
        "plt.title('Гистограмма равномерного распределения')\n",
        "plt.xlabel('Значения')\n",
        "plt.ylabel('Плотность вероятности')\n",
        "\n",
        "plt.show()"
      ],
      "metadata": {
        "colab": {
          "base_uri": "https://localhost:8080/",
          "height": 564
        },
        "id": "ixxrzDjvFYtM",
        "outputId": "52ca3361-d30d-47d0-9f9b-8968165c20aa"
      },
      "execution_count": null,
      "outputs": [
        {
          "output_type": "display_data",
          "data": {
            "text/plain": [
              "<Figure size 600x600 with 1 Axes>"
            ],
            "image/png": "[encoded data removed]"
          },
          "metadata": {}
        }
      ]
    },
    {
      "cell_type": "markdown",
      "source": [
        "Статистика"
      ],
      "metadata": {
        "id": "z2rfDuREQaPE"
      }
    },
    {
      "cell_type": "code",
      "source": [
        "print(\"Статистика:\")\n",
        "print(f\"Фактическое среднее значение: {np.mean(sample):.2f}\")\n",
        "print(f\"Теоретическое среднее значение: {(a+b)/2}\")"
      ],
      "metadata": {
        "colab": {
          "base_uri": "https://localhost:8080/"
        },
        "id": "EX_T6OqYQaI6",
        "outputId": "ef555a02-5abb-4023-8531-e28070c5e7f9"
      },
      "execution_count": null,
      "outputs": [
        {
          "output_type": "stream",
          "name": "stdout",
          "text": [
            "Статистика:\n",
            "Фактическое среднее значение: 3.00\n",
            "Теоретическое среднее значение: 3.0\n"
          ]
        }
      ]
    }
  ]
}